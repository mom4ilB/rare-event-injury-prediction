{
  "nbformat": 4,
  "nbformat_minor": 0,
  "metadata": {
    "colab": {
      "provenance": []
    },
    "kernelspec": {
      "name": "python3",
      "display_name": "Python 3"
    },
    "language_info": {
      "name": "python"
    }
  },
  "cells": [
    {
      "cell_type": "markdown",
      "source": [
        "# **DATA PREPROCESSING**"
      ],
      "metadata": {
        "id": "GkXugmOTJWCe"
      }
    },
    {
      "cell_type": "code",
      "source": [
        "import numpy as np\n",
        "import pandas as pd\n",
        "from sklearn.preprocessing import StandardScaler\n",
        "from sklearn.model_selection import train_test_split\n",
        "from sklearn.utils.class_weight import compute_class_weight\n",
        "from sklearn.metrics import f1_score, average_precision_score, classification_report, confusion_matrix\n",
        "import tensorflow as tf\n",
        "from tensorflow.keras.models import Model\n",
        "from tensorflow.keras.layers import Input, Conv1D, MaxPooling1D, GRU, LSTM, Dense, Dropout, BatchNormalization, Concatenate\n",
        "from tensorflow.keras.callbacks import EarlyStopping\n",
        "from tensorflow.keras.optimizers import Adam\n",
        "import inspect"
      ],
      "metadata": {
        "id": "GQPdCha9Jbyq"
      },
      "execution_count": 5,
      "outputs": []
    },
    {
      "cell_type": "code",
      "source": [
        "data = pd.read_csv('day_approach_maskedID_timeseries.csv')"
      ],
      "metadata": {
        "id": "WtwOOiUgJ7Dg"
      },
      "execution_count": 3,
      "outputs": []
    },
    {
      "cell_type": "code",
      "source": [
        "# Filter only columns that do NOT contain '.1', '.2', ..., '.6'\n",
        "base_feature_cols = [col for col in data.columns\n",
        "                     if not any(col.endswith(f\".{i}\") for i in range(1, 7))\n",
        "                     and col not in ['Athlete ID', 'Date', 'injury']]\n",
        "\n",
        "# Keep only core features + ID + Date + target\n",
        "filtered_df = data[base_feature_cols + ['Athlete ID', 'Date', 'injury']]"
      ],
      "metadata": {
        "id": "I8X5ZbT5KMSY"
      },
      "execution_count": 4,
      "outputs": []
    },
    {
      "cell_type": "code",
      "source": [
        "# --- Section 1: Data Normalization ---\n",
        "def normalize_data(df, base_feature_cols, strategy='athlete'):\n",
        "    df_norm = df.copy()\n",
        "    if strategy == 'global':\n",
        "        scaler = StandardScaler()\n",
        "        df_norm[base_feature_cols] = scaler.fit_transform(df[base_feature_cols])\n",
        "    elif strategy == 'athlete':\n",
        "        for athlete_id, group in df.groupby('Athlete ID'):\n",
        "            scaler = StandardScaler()\n",
        "            df_norm.loc[group.index, base_feature_cols] = scaler.fit_transform(group[base_feature_cols])\n",
        "    else:\n",
        "        raise ValueError(\"Invalid normalization strategy\")\n",
        "    return df_norm\n"
      ],
      "metadata": {
        "id": "g8ygBF7NKTrI"
      },
      "execution_count": 47,
      "outputs": []
    },
    {
      "cell_type": "code",
      "source": [
        "# --- Section 2: Sliding Window Creation ---\n",
        "def create_windows_with_athlete_tracking(df, feature_cols, window_size=20, risk_horizon=5):\n",
        "    X, y, athlete_ids = [], [], []\n",
        "    df = df.sort_values(['Athlete ID', 'Date'])\n",
        "    for athlete_id, group in df.groupby('Athlete ID'):\n",
        "        group = group.reset_index(drop=True)\n",
        "        injuries = group['injury'].values\n",
        "        features = group[feature_cols].values\n",
        "        for i in range(len(group) - window_size - risk_horizon):\n",
        "            window = features[i:i+window_size]\n",
        "            injury_window = injuries[i+window_size:i+window_size + risk_horizon]\n",
        "            label = 1 if injury_window.any() else 0\n",
        "            X.append(window)\n",
        "            y.append(label)\n",
        "            athlete_ids.append(athlete_id)\n",
        "    return np.array(X), np.array(y), np.array(athlete_ids)"
      ],
      "metadata": {
        "id": "VajwTME-KfEN"
      },
      "execution_count": 5,
      "outputs": []
    },
    {
      "cell_type": "code",
      "source": [
        "# --- Section 3: Engineered Feature Extraction ---\n",
        "def extract_features_from_window(window):\n",
        "    features = []\n",
        "    for i in range(window.shape[1]):\n",
        "        series = window[:, i]\n",
        "        features.extend([\n",
        "            np.mean(series), np.std(series), np.min(series),\n",
        "            np.max(series), np.polyfit(np.arange(len(series)), series, 1)[0], series[-1]\n",
        "        ])\n",
        "    return np.array(features)"
      ],
      "metadata": {
        "id": "fqbILC4sPZlM"
      },
      "execution_count": 6,
      "outputs": []
    },
    {
      "cell_type": "code",
      "source": [
        "def extract_engineered_features(X):\n",
        "    return np.array([extract_features_from_window(w) for w in X])"
      ],
      "metadata": {
        "id": "lHMUC3DjPc-e"
      },
      "execution_count": 7,
      "outputs": []
    },
    {
      "cell_type": "code",
      "source": [
        "# --- Section 4: Data Splitting ---\n",
        "def split_data_by_athlete(X, X_feat, y, athlete_ids, test_size=0.2, random_state=42):\n",
        "    unique_athletes = np.unique(athlete_ids)\n",
        "    train_athletes, test_athletes = train_test_split(unique_athletes, test_size=test_size, random_state=random_state)\n",
        "    train_mask = np.isin(athlete_ids, train_athletes)\n",
        "    test_mask = np.isin(athlete_ids, test_athletes)\n",
        "\n",
        "    return (\n",
        "        X[train_mask], X[test_mask],\n",
        "        X_feat[train_mask], X_feat[test_mask],\n",
        "        y[train_mask], y[test_mask]\n",
        "    )"
      ],
      "metadata": {
        "id": "UasPJ6CnPeHL"
      },
      "execution_count": 8,
      "outputs": []
    },
    {
      "cell_type": "markdown",
      "source": [
        "# **MODELS**\n"
      ],
      "metadata": {
        "id": "Px5d4D4wPtse"
      }
    },
    {
      "cell_type": "code",
      "source": [
        "def build_lstm_model(input_shape_ts):\n",
        "    input_ts = Input(shape=input_shape_ts)\n",
        "    x = LSTM(16, return_sequences=False, dropout=0.3, recurrent_dropout=0.2)(input_ts)\n",
        "    x = Dropout(0.5)(x)\n",
        "    x = Dense(32, activation='relu')(x)\n",
        "    x = Dropout(0.3)(x)\n",
        "    output = Dense(1, activation='sigmoid')(x)\n",
        "    model = Model(inputs=input_ts, outputs=output)\n",
        "    model.compile(loss='binary_crossentropy', optimizer=Adam(1e-3),\n",
        "                  metrics=['Precision', 'Recall', tf.keras.metrics.AUC(name='AUC')])\n",
        "    return model"
      ],
      "metadata": {
        "id": "MLS-XKLiP1oJ"
      },
      "execution_count": 9,
      "outputs": []
    },
    {
      "cell_type": "code",
      "source": [
        "def build_gru_model(input_shape_ts):\n",
        "    input_ts = Input(shape=input_shape_ts)\n",
        "    x = GRU(32, return_sequences=False, dropout=0.2, recurrent_dropout=0.2)(input_ts)\n",
        "    x = Dropout(0.5)(x)\n",
        "    x = Dense(32, activation='relu')(x)\n",
        "    x = Dropout(0.3)(x)\n",
        "    output = Dense(1, activation='sigmoid')(x)\n",
        "    model = Model(inputs=input_ts, outputs=output)\n",
        "    model.compile(loss='binary_crossentropy', optimizer=Adam(1e-3),\n",
        "                  metrics=['Precision', 'Recall', tf.keras.metrics.AUC(name='AUC')])\n",
        "    return model"
      ],
      "metadata": {
        "id": "LF8V_ZVfP9-u"
      },
      "execution_count": 10,
      "outputs": []
    },
    {
      "cell_type": "code",
      "source": [
        "def build_hybrid_model(input_shape_ts, input_shape_feat):\n",
        "    input_ts = Input(shape=input_shape_ts)\n",
        "    x = Conv1D(64, kernel_size=3, activation='relu')(input_ts)\n",
        "    x = BatchNormalization()(x)\n",
        "    x = MaxPooling1D(pool_size=2)(x)\n",
        "    x = GRU(32, return_sequences=False, dropout=0.2, recurrent_dropout=0.2)(x)\n",
        "    x = Dropout(0.5)(x)\n",
        "\n",
        "    input_feat = Input(shape=(input_shape_feat,))\n",
        "    y = Dense(64, activation='relu')(input_feat)\n",
        "    y = Dropout(0.3)(y)\n",
        "    y = Dense(32, activation='relu')(y)\n",
        "\n",
        "    combined = Concatenate()([x, y])\n",
        "    z = Dense(32, activation='relu')(combined)\n",
        "    z = Dropout(0.3)(z)\n",
        "    output = Dense(1, activation='sigmoid')(z)\n",
        "\n",
        "    model = Model(inputs=[input_ts, input_feat], outputs=output)\n",
        "    model.compile(loss='binary_crossentropy', optimizer=Adam(1e-3),\n",
        "                  metrics=['Precision', 'Recall', tf.keras.metrics.AUC(name='AUC')])\n",
        "    return model"
      ],
      "metadata": {
        "id": "XVyqeIHzQFjv"
      },
      "execution_count": 11,
      "outputs": []
    },
    {
      "cell_type": "code",
      "source": [
        "def focal_loss(gamma=2., alpha=0.25):\n",
        "    def focal_loss_fixed(y_true, y_pred):\n",
        "        epsilon = tf.keras.backend.epsilon()\n",
        "        y_pred = tf.keras.backend.clip(y_pred, epsilon, 1. - epsilon)\n",
        "        cross_entropy = -y_true * tf.keras.backend.log(y_pred) - (1 - y_true) * tf.keras.backend.log(1 - y_pred)\n",
        "        weight = alpha * y_true * tf.keras.backend.pow(1 - y_pred, gamma) + (1 - alpha) * (1 - y_true) * tf.keras.backend.pow(y_pred, gamma)\n",
        "        return tf.keras.backend.mean(weight * cross_entropy)\n",
        "    return focal_loss_fixed"
      ],
      "metadata": {
        "id": "xYW_aGJZQJDG"
      },
      "execution_count": 12,
      "outputs": []
    },
    {
      "cell_type": "code",
      "source": [
        "def get_class_weights(y_train):\n",
        "    weights = compute_class_weight(class_weight='balanced', classes=np.unique(y_train), y=y_train)\n",
        "    return dict(zip(np.unique(y_train), weights))"
      ],
      "metadata": {
        "id": "N1TnTxrDZI4J"
      },
      "execution_count": 13,
      "outputs": []
    },
    {
      "cell_type": "markdown",
      "source": [
        "# **MODEL EVALUATION**"
      ],
      "metadata": {
        "id": "yPoMQ_kxQN9m"
      }
    },
    {
      "cell_type": "code",
      "source": [
        "def evaluate_model(model, X_test_ts, X_test_feat, y_test):\n",
        "    y_probs = model.predict([X_test_ts, X_test_feat]).ravel()\n",
        "    pr_auc = average_precision_score(y_test, y_probs)\n",
        "    best_thresh, best_f1 = 0, 0\n",
        "    for t in np.linspace(0, 1, 100):\n",
        "        preds = (y_probs > t).astype(int)\n",
        "        f1 = f1_score(y_test, preds)\n",
        "        if f1 > best_f1:\n",
        "            best_f1, best_thresh = f1, t\n",
        "    final_preds = (y_probs > best_thresh).astype(int)\n",
        "    report = classification_report(y_test, final_preds, output_dict=True)\n",
        "    matrix = confusion_matrix(y_test, final_preds)\n",
        "    return pr_auc, best_f1, best_thresh, report, matrix"
      ],
      "metadata": {
        "id": "eEh_qagfQSos"
      },
      "execution_count": 14,
      "outputs": []
    },
    {
      "cell_type": "markdown",
      "source": [
        "# **EXPERIMENTATION**"
      ],
      "metadata": {
        "id": "4SOdZV3CQlU6"
      }
    },
    {
      "cell_type": "code",
      "source": [
        "# --- Section 7: Experiment Runner ---\n",
        "def run_experiment(model_builder,\n",
        "                   X_train_ts, X_test_ts,\n",
        "                   X_train_feat, X_test_feat,\n",
        "                   y_train, y_test,\n",
        "                   class_weight=None,\n",
        "                   loss_function='binary_crossentropy',\n",
        "                   model_name='model',\n",
        "                   epochs=20, batch_size=64):\n",
        "    \"\"\"\n",
        "    model_builder: function to build the model (e.g., build_gru_model)\n",
        "    class_weight: dict or None\n",
        "    loss_function: string or tf.keras loss function (e.g., focal_loss())\n",
        "    \"\"\"\n",
        "    input_shape_ts = X_train_ts.shape[1:]\n",
        "    input_shape_feat = X_train_feat.shape[1] if X_train_feat is not None else None\n",
        "\n",
        "    # Build model\n",
        "    if input_shape_feat is not None and 'hybrid' in model_name:\n",
        "        model = model_builder(input_shape_ts, input_shape_feat)\n",
        "    else:\n",
        "        model = model_builder(input_shape_ts)\n",
        "\n",
        "    model.compile(\n",
        "        optimizer=Adam(1e-3),\n",
        "        loss=loss_function,\n",
        "        metrics=['Precision', 'Recall', tf.keras.metrics.AUC(name='AUC')]\n",
        "    )\n",
        "\n",
        "    # Train model\n",
        "    model.fit(\n",
        "        [X_train_ts, X_train_feat] if input_shape_feat else X_train_ts,\n",
        "        y_train,\n",
        "        validation_data=(\n",
        "            ([X_test_ts, X_test_feat] if input_shape_feat else X_test_ts, y_test)\n",
        "        ),\n",
        "        class_weight=class_weight,\n",
        "        epochs=epochs,\n",
        "        batch_size=batch_size,\n",
        "        callbacks=[EarlyStopping(patience=3, restore_best_weights=True)],\n",
        "        verbose=1\n",
        "    )\n",
        "\n",
        "    # Evaluate model\n",
        "    y_probs = model.predict([X_test_ts, X_test_feat] if input_shape_feat else X_test_ts).ravel()\n",
        "    pr_auc = average_precision_score(y_test, y_probs)\n",
        "    best_thresh, best_f1 = 0, 0\n",
        "    for t in np.linspace(0, 1, 100):\n",
        "        preds = (y_probs > t).astype(int)\n",
        "        f1 = f1_score(y_test, preds)\n",
        "        if f1 > best_f1:\n",
        "            best_f1, best_thresh = f1, t\n",
        "    final_preds = (y_probs > best_thresh).astype(int)\n",
        "    report = classification_report(y_test, final_preds, output_dict=True)\n",
        "    matrix = confusion_matrix(y_test, final_preds)\n",
        "\n",
        "    # Print key results\n",
        "    print(f\"\\nModel: {model_name}\")\n",
        "    print(f\"Best Threshold: {best_thresh:.2f}\")\n",
        "    print(f\"PR AUC: {pr_auc:.3f}, Best F1: {best_f1:.3f}\")\n",
        "    print(\"Classification Report:\")\n",
        "    print(classification_report(y_test, final_preds, digits=3))\n",
        "    print(\"Confusion Matrix:\")\n",
        "    print(matrix)\n",
        "\n",
        "    # Return all metrics\n",
        "    return {\n",
        "        'model_name': model_name,\n",
        "        'pr_auc': pr_auc,\n",
        "        'best_f1': best_f1,\n",
        "        'best_thresh': best_thresh,\n",
        "        'report': report,\n",
        "        'confusion_matrix': matrix\n",
        "    }"
      ],
      "metadata": {
        "id": "Y4DayyY4QuBB"
      },
      "execution_count": 15,
      "outputs": []
    },
    {
      "cell_type": "markdown",
      "source": [
        "LSTM Model experiments"
      ],
      "metadata": {
        "id": "FnaYX0-Gctzf"
      }
    },
    {
      "cell_type": "code",
      "source": [
        "# --- Run Full Pipeline for LSTM ---\n",
        "# Step 1: Normalize Data\n",
        "#df_norm = normalize_data(filtered_df, base_feature_cols, strategy='athlete')\n",
        "df_norm = filtered_df\n",
        "\n",
        "# Step 2: Create Time Windows\n",
        "X, y, athlete_ids = create_windows_with_athlete_tracking(df_norm, base_feature_cols, window_size=30, risk_horizon=5)\n",
        "\n",
        "# Step 3: No need for engineered features\n",
        "X_feat = np.zeros((X.shape[0], 1))  # Dummy placeholder\n",
        "\n",
        "# Step 4: Split the Data\n",
        "X_train_ts, X_test_ts, _, _, y_train, y_test = split_data_by_athlete(X, X_feat, y, athlete_ids)\n",
        "\n",
        "# Step 5: Train and Evaluate LSTM\n",
        "results_lstm = run_experiment(\n",
        "    model_builder=build_lstm_model,\n",
        "    X_train_ts=X_train_ts,\n",
        "    X_test_ts=X_test_ts,\n",
        "    X_train_feat=None,\n",
        "    X_test_feat=None,\n",
        "    y_train=y_train,\n",
        "    y_test=y_test,\n",
        "    class_weight=get_class_weights(y_train),\n",
        "    loss_function='binary_crossentropy',\n",
        "    model_name='LSTM'\n",
        ")\n"
      ],
      "metadata": {
        "colab": {
          "base_uri": "https://localhost:8080/"
        },
        "id": "VqHJOWykVSjt",
        "outputId": "336cab09-693d-4dab-d79d-6f804c7308e1"
      },
      "execution_count": 21,
      "outputs": [
        {
          "output_type": "stream",
          "name": "stdout",
          "text": [
            "Epoch 1/20\n",
            "\u001b[1m540/540\u001b[0m \u001b[32m━━━━━━━━━━━━━━━━━━━━\u001b[0m\u001b[37m\u001b[0m \u001b[1m21s\u001b[0m 27ms/step - AUC: 0.5127 - Precision: 0.0480 - Recall: 0.4599 - loss: 0.6913 - val_AUC: 0.5558 - val_Precision: 0.0427 - val_Recall: 0.7807 - val_loss: 0.7117\n",
            "Epoch 2/20\n",
            "\u001b[1m540/540\u001b[0m \u001b[32m━━━━━━━━━━━━━━━━━━━━\u001b[0m\u001b[37m\u001b[0m \u001b[1m13s\u001b[0m 25ms/step - AUC: 0.5228 - Precision: 0.0486 - Recall: 0.5080 - loss: 0.6797 - val_AUC: 0.5486 - val_Precision: 0.0426 - val_Recall: 0.8158 - val_loss: 0.7189\n",
            "Epoch 3/20\n",
            "\u001b[1m540/540\u001b[0m \u001b[32m━━━━━━━━━━━━━━━━━━━━\u001b[0m\u001b[37m\u001b[0m \u001b[1m20s\u001b[0m 25ms/step - AUC: 0.5381 - Precision: 0.0508 - Recall: 0.5826 - loss: 0.6859 - val_AUC: 0.5632 - val_Precision: 0.0493 - val_Recall: 0.5044 - val_loss: 0.6869\n",
            "Epoch 4/20\n",
            "\u001b[1m540/540\u001b[0m \u001b[32m━━━━━━━━━━━━━━━━━━━━\u001b[0m\u001b[37m\u001b[0m \u001b[1m21s\u001b[0m 25ms/step - AUC: 0.5412 - Precision: 0.0530 - Recall: 0.5056 - loss: 0.6951 - val_AUC: 0.5548 - val_Precision: 0.0520 - val_Recall: 0.3684 - val_loss: 0.6659\n",
            "Epoch 5/20\n",
            "\u001b[1m540/540\u001b[0m \u001b[32m━━━━━━━━━━━━━━━━━━━━\u001b[0m\u001b[37m\u001b[0m \u001b[1m20s\u001b[0m 25ms/step - AUC: 0.5382 - Precision: 0.0547 - Recall: 0.5486 - loss: 0.7113 - val_AUC: 0.5639 - val_Precision: 0.0495 - val_Recall: 0.4167 - val_loss: 0.6644\n",
            "Epoch 6/20\n",
            "\u001b[1m540/540\u001b[0m \u001b[32m━━━━━━━━━━━━━━━━━━━━\u001b[0m\u001b[37m\u001b[0m \u001b[1m20s\u001b[0m 25ms/step - AUC: 0.5556 - Precision: 0.0550 - Recall: 0.5045 - loss: 0.6963 - val_AUC: 0.5483 - val_Precision: 0.0461 - val_Recall: 0.5351 - val_loss: 0.6982\n",
            "Epoch 7/20\n",
            "\u001b[1m540/540\u001b[0m \u001b[32m━━━━━━━━━━━━━━━━━━━━\u001b[0m\u001b[37m\u001b[0m \u001b[1m14s\u001b[0m 25ms/step - AUC: 0.5677 - Precision: 0.0585 - Recall: 0.5430 - loss: 0.6918 - val_AUC: 0.5527 - val_Precision: 0.0445 - val_Recall: 0.4254 - val_loss: 0.6753\n",
            "Epoch 8/20\n",
            "\u001b[1m540/540\u001b[0m \u001b[32m━━━━━━━━━━━━━━━━━━━━\u001b[0m\u001b[37m\u001b[0m \u001b[1m20s\u001b[0m 25ms/step - AUC: 0.5752 - Precision: 0.0608 - Recall: 0.5651 - loss: 0.6936 - val_AUC: 0.5543 - val_Precision: 0.0488 - val_Recall: 0.4211 - val_loss: 0.6600\n",
            "Epoch 9/20\n",
            "\u001b[1m540/540\u001b[0m \u001b[32m━━━━━━━━━━━━━━━━━━━━\u001b[0m\u001b[37m\u001b[0m \u001b[1m21s\u001b[0m 26ms/step - AUC: 0.5739 - Precision: 0.0590 - Recall: 0.4969 - loss: 0.6850 - val_AUC: 0.5461 - val_Precision: 0.0488 - val_Recall: 0.3684 - val_loss: 0.6528\n",
            "Epoch 10/20\n",
            "\u001b[1m540/540\u001b[0m \u001b[32m━━━━━━━━━━━━━━━━━━━━\u001b[0m\u001b[37m\u001b[0m \u001b[1m20s\u001b[0m 25ms/step - AUC: 0.5495 - Precision: 0.0572 - Recall: 0.4852 - loss: 0.6951 - val_AUC: 0.5411 - val_Precision: 0.0438 - val_Recall: 0.3947 - val_loss: 0.6771\n",
            "Epoch 11/20\n",
            "\u001b[1m540/540\u001b[0m \u001b[32m━━━━━━━━━━━━━━━━━━━━\u001b[0m\u001b[37m\u001b[0m \u001b[1m21s\u001b[0m 25ms/step - AUC: 0.5786 - Precision: 0.0610 - Recall: 0.5693 - loss: 0.6922 - val_AUC: 0.5557 - val_Precision: 0.0469 - val_Recall: 0.5219 - val_loss: 0.7005\n",
            "Epoch 12/20\n",
            "\u001b[1m540/540\u001b[0m \u001b[32m━━━━━━━━━━━━━━━━━━━━\u001b[0m\u001b[37m\u001b[0m \u001b[1m13s\u001b[0m 25ms/step - AUC: 0.5764 - Precision: 0.0593 - Recall: 0.5594 - loss: 0.6883 - val_AUC: 0.5581 - val_Precision: 0.0467 - val_Recall: 0.3465 - val_loss: 0.6534\n",
            "\u001b[1m177/177\u001b[0m \u001b[32m━━━━━━━━━━━━━━━━━━━━\u001b[0m\u001b[37m\u001b[0m \u001b[1m2s\u001b[0m 7ms/step\n",
            "\n",
            "Model: LSTM\n",
            "Best Threshold: 0.56\n",
            "PR AUC: 0.050, Best F1: 0.096\n",
            "Classification Report:\n",
            "              precision    recall  f1-score   support\n",
            "\n",
            "           0      0.963     0.888     0.924      5429\n",
            "           1      0.065     0.184     0.096       228\n",
            "\n",
            "    accuracy                          0.859      5657\n",
            "   macro avg      0.514     0.536     0.510      5657\n",
            "weighted avg      0.927     0.859     0.890      5657\n",
            "\n",
            "Confusion Matrix:\n",
            "[[4820  609]\n",
            " [ 186   42]]\n"
          ]
        }
      ]
    },
    {
      "cell_type": "code",
      "source": [
        "results_lstm_focal = run_experiment(\n",
        "    model_builder=build_lstm_model,\n",
        "    X_train_ts=X_train_ts,\n",
        "    X_test_ts=X_test_ts,\n",
        "    X_train_feat=None,\n",
        "    X_test_feat=None,\n",
        "    y_train=y_train,\n",
        "    y_test=y_test,\n",
        "    class_weight=None,  # focal loss replaces this\n",
        "    loss_function=focal_loss(gamma=2.0, alpha=0.25),\n",
        "    model_name='LSTM_Focal'\n",
        ")\n"
      ],
      "metadata": {
        "colab": {
          "base_uri": "https://localhost:8080/"
        },
        "id": "lVY5cYlFb95m",
        "outputId": "a2d7f967-5d78-4c98-d4ad-2b239f24365f"
      },
      "execution_count": 22,
      "outputs": [
        {
          "output_type": "stream",
          "name": "stdout",
          "text": [
            "Epoch 1/20\n",
            "\u001b[1m540/540\u001b[0m \u001b[32m━━━━━━━━━━━━━━━━━━━━\u001b[0m\u001b[37m\u001b[0m \u001b[1m20s\u001b[0m 26ms/step - AUC: 0.5036 - Precision: 0.0538 - Recall: 0.0549 - loss: 0.0418 - val_AUC: 0.5042 - val_Precision: 0.0000e+00 - val_Recall: 0.0000e+00 - val_loss: 0.0165\n",
            "Epoch 2/20\n",
            "\u001b[1m540/540\u001b[0m \u001b[32m━━━━━━━━━━━━━━━━━━━━\u001b[0m\u001b[37m\u001b[0m \u001b[1m20s\u001b[0m 26ms/step - AUC: 0.4981 - Precision: 0.0000e+00 - Recall: 0.0000e+00 - loss: 0.0221 - val_AUC: 0.5168 - val_Precision: 0.0000e+00 - val_Recall: 0.0000e+00 - val_loss: 0.0163\n",
            "Epoch 3/20\n",
            "\u001b[1m540/540\u001b[0m \u001b[32m━━━━━━━━━━━━━━━━━━━━\u001b[0m\u001b[37m\u001b[0m \u001b[1m20s\u001b[0m 25ms/step - AUC: 0.5138 - Precision: 0.0000e+00 - Recall: 0.0000e+00 - loss: 0.0196 - val_AUC: 0.5177 - val_Precision: 0.0000e+00 - val_Recall: 0.0000e+00 - val_loss: 0.0165\n",
            "Epoch 4/20\n",
            "\u001b[1m540/540\u001b[0m \u001b[32m━━━━━━━━━━━━━━━━━━━━\u001b[0m\u001b[37m\u001b[0m \u001b[1m13s\u001b[0m 24ms/step - AUC: 0.5144 - Precision: 0.0000e+00 - Recall: 0.0000e+00 - loss: 0.0199 - val_AUC: 0.4971 - val_Precision: 0.0000e+00 - val_Recall: 0.0000e+00 - val_loss: 0.0165\n",
            "Epoch 5/20\n",
            "\u001b[1m540/540\u001b[0m \u001b[32m━━━━━━━━━━━━━━━━━━━━\u001b[0m\u001b[37m\u001b[0m \u001b[1m21s\u001b[0m 24ms/step - AUC: 0.5110 - Precision: 0.0000e+00 - Recall: 0.0000e+00 - loss: 0.0193 - val_AUC: 0.5099 - val_Precision: 0.0000e+00 - val_Recall: 0.0000e+00 - val_loss: 0.0164\n",
            "\u001b[1m177/177\u001b[0m \u001b[32m━━━━━━━━━━━━━━━━━━━━\u001b[0m\u001b[37m\u001b[0m \u001b[1m2s\u001b[0m 7ms/step\n",
            "\n",
            "Model: LSTM_Focal\n",
            "Best Threshold: 0.17\n",
            "PR AUC: 0.046, Best F1: 0.083\n",
            "Classification Report:\n",
            "              precision    recall  f1-score   support\n",
            "\n",
            "           0      0.980     0.138     0.241      5429\n",
            "           1      0.044     0.934     0.083       228\n",
            "\n",
            "    accuracy                          0.170      5657\n",
            "   macro avg      0.512     0.536     0.162      5657\n",
            "weighted avg      0.943     0.170     0.235      5657\n",
            "\n",
            "Confusion Matrix:\n",
            "[[ 747 4682]\n",
            " [  15  213]]\n"
          ]
        }
      ]
    },
    {
      "cell_type": "markdown",
      "source": [
        "GRU Only Model Experiments"
      ],
      "metadata": {
        "id": "PabGQ-aHc1Px"
      }
    },
    {
      "cell_type": "code",
      "source": [
        "# --- Run Full Pipeline for GRU-only Model ---\n",
        "# Step 1: Normalize Data\n",
        "#df_norm = normalize_data(filtered_df, base_feature_cols, strategy='athlete')\n",
        "df_norm = filtered_df\n",
        "\n",
        "# Step 2: Create Time Windows\n",
        "X, y, athlete_ids = create_windows_with_athlete_tracking(df_norm, base_feature_cols, window_size=20, risk_horizon=5)\n",
        "\n",
        "# Step 3: Create dummy features (not needed for GRU)\n",
        "X_feat_dummy = np.zeros((X.shape[0], 1))  # Placeholder\n",
        "\n",
        "# Step 4: Split Data\n",
        "X_train_ts, X_test_ts, _, _, y_train, y_test = split_data_by_athlete(X, X_feat_dummy, y, athlete_ids)\n",
        "\n",
        "# Step 5: Run GRU model\n",
        "results_gru = run_experiment(\n",
        "    model_builder=build_gru_model,\n",
        "    X_train_ts=X_train_ts,\n",
        "    X_test_ts=X_test_ts,\n",
        "    X_train_feat=None,\n",
        "    X_test_feat=None,\n",
        "    y_train=y_train,\n",
        "    y_test=y_test,\n",
        "    class_weight=get_class_weights(y_train),\n",
        "    loss_function='binary_crossentropy',\n",
        "    model_name='GRU'\n",
        ")\n"
      ],
      "metadata": {
        "colab": {
          "base_uri": "https://localhost:8080/"
        },
        "id": "7VmHyTOVcqXq",
        "outputId": "d767f1ec-7195-483c-b4c4-69272e7411ed"
      },
      "execution_count": 24,
      "outputs": [
        {
          "output_type": "stream",
          "name": "stdout",
          "text": [
            "Epoch 1/20\n",
            "\u001b[1m549/549\u001b[0m \u001b[32m━━━━━━━━━━━━━━━━━━━━\u001b[0m\u001b[37m\u001b[0m \u001b[1m18s\u001b[0m 21ms/step - AUC: 0.4771 - Precision: 0.0421 - Recall: 0.4112 - loss: 0.7160 - val_AUC: 0.5522 - val_Precision: 0.0442 - val_Recall: 0.8103 - val_loss: 0.7047\n",
            "Epoch 2/20\n",
            "\u001b[1m549/549\u001b[0m \u001b[32m━━━━━━━━━━━━━━━━━━━━\u001b[0m\u001b[37m\u001b[0m \u001b[1m11s\u001b[0m 20ms/step - AUC: 0.5219 - Precision: 0.0500 - Recall: 0.5253 - loss: 0.6986 - val_AUC: 0.5561 - val_Precision: 0.0427 - val_Recall: 0.7931 - val_loss: 0.7104\n",
            "Epoch 3/20\n",
            "\u001b[1m549/549\u001b[0m \u001b[32m━━━━━━━━━━━━━━━━━━━━\u001b[0m\u001b[37m\u001b[0m \u001b[1m20s\u001b[0m 20ms/step - AUC: 0.5233 - Precision: 0.0501 - Recall: 0.5066 - loss: 0.6977 - val_AUC: 0.5572 - val_Precision: 0.0436 - val_Recall: 0.6595 - val_loss: 0.7015\n",
            "Epoch 4/20\n",
            "\u001b[1m549/549\u001b[0m \u001b[32m━━━━━━━━━━━━━━━━━━━━\u001b[0m\u001b[37m\u001b[0m \u001b[1m21s\u001b[0m 20ms/step - AUC: 0.5602 - Precision: 0.0552 - Recall: 0.5659 - loss: 0.6885 - val_AUC: 0.5492 - val_Precision: 0.0498 - val_Recall: 0.4267 - val_loss: 0.6747\n",
            "Epoch 5/20\n",
            "\u001b[1m549/549\u001b[0m \u001b[32m━━━━━━━━━━━━━━━━━━━━\u001b[0m\u001b[37m\u001b[0m \u001b[1m20s\u001b[0m 20ms/step - AUC: 0.5651 - Precision: 0.0554 - Recall: 0.5406 - loss: 0.6823 - val_AUC: 0.5304 - val_Precision: 0.0458 - val_Recall: 0.3966 - val_loss: 0.6557\n",
            "Epoch 6/20\n",
            "\u001b[1m549/549\u001b[0m \u001b[32m━━━━━━━━━━━━━━━━━━━━\u001b[0m\u001b[37m\u001b[0m \u001b[1m20s\u001b[0m 19ms/step - AUC: 0.5839 - Precision: 0.0583 - Recall: 0.5805 - loss: 0.6764 - val_AUC: 0.5453 - val_Precision: 0.0420 - val_Recall: 0.6207 - val_loss: 0.7086\n",
            "Epoch 7/20\n",
            "\u001b[1m549/549\u001b[0m \u001b[32m━━━━━━━━━━━━━━━━━━━━\u001b[0m\u001b[37m\u001b[0m \u001b[1m10s\u001b[0m 18ms/step - AUC: 0.5761 - Precision: 0.0586 - Recall: 0.6454 - loss: 0.6949 - val_AUC: 0.5395 - val_Precision: 0.0448 - val_Recall: 0.5862 - val_loss: 0.7117\n",
            "Epoch 8/20\n",
            "\u001b[1m549/549\u001b[0m \u001b[32m━━━━━━━━━━━━━━━━━━━━\u001b[0m\u001b[37m\u001b[0m \u001b[1m11s\u001b[0m 20ms/step - AUC: 0.5983 - Precision: 0.0615 - Recall: 0.6106 - loss: 0.6791 - val_AUC: 0.5303 - val_Precision: 0.0502 - val_Recall: 0.3362 - val_loss: 0.6430\n",
            "Epoch 9/20\n",
            "\u001b[1m549/549\u001b[0m \u001b[32m━━━━━━━━━━━━━━━━━━━━\u001b[0m\u001b[37m\u001b[0m \u001b[1m21s\u001b[0m 20ms/step - AUC: 0.5994 - Precision: 0.0649 - Recall: 0.5781 - loss: 0.6869 - val_AUC: 0.5372 - val_Precision: 0.0480 - val_Recall: 0.3750 - val_loss: 0.6524\n",
            "Epoch 10/20\n",
            "\u001b[1m549/549\u001b[0m \u001b[32m━━━━━━━━━━━━━━━━━━━━\u001b[0m\u001b[37m\u001b[0m \u001b[1m19s\u001b[0m 18ms/step - AUC: 0.5960 - Precision: 0.0628 - Recall: 0.5658 - loss: 0.6836 - val_AUC: 0.5293 - val_Precision: 0.0475 - val_Recall: 0.3491 - val_loss: 0.6474\n",
            "Epoch 11/20\n",
            "\u001b[1m549/549\u001b[0m \u001b[32m━━━━━━━━━━━━━━━━━━━━\u001b[0m\u001b[37m\u001b[0m \u001b[1m11s\u001b[0m 19ms/step - AUC: 0.5771 - Precision: 0.0571 - Recall: 0.5806 - loss: 0.6818 - val_AUC: 0.5345 - val_Precision: 0.0442 - val_Recall: 0.4871 - val_loss: 0.6835\n",
            "\u001b[1m182/182\u001b[0m \u001b[32m━━━━━━━━━━━━━━━━━━━━\u001b[0m\u001b[37m\u001b[0m \u001b[1m2s\u001b[0m 6ms/step\n",
            "\n",
            "Model: GRU\n",
            "Best Threshold: 0.55\n",
            "PR AUC: 0.045, Best F1: 0.092\n",
            "Classification Report:\n",
            "              precision    recall  f1-score   support\n",
            "\n",
            "           0      0.963     0.845     0.901      5575\n",
            "           1      0.058     0.228     0.092       232\n",
            "\n",
            "    accuracy                          0.821      5807\n",
            "   macro avg      0.511     0.537     0.496      5807\n",
            "weighted avg      0.927     0.821     0.868      5807\n",
            "\n",
            "Confusion Matrix:\n",
            "[[4713  862]\n",
            " [ 179   53]]\n"
          ]
        }
      ]
    },
    {
      "cell_type": "code",
      "source": [
        "# Step 5: Run GRU model with focal loss\n",
        "results_gru = run_experiment(\n",
        "    model_builder=build_gru_model,\n",
        "    X_train_ts=X_train_ts,\n",
        "    X_test_ts=X_test_ts,\n",
        "    X_train_feat=None,\n",
        "    X_test_feat=None,\n",
        "    y_train=y_train,\n",
        "    y_test=y_test,\n",
        "    class_weight=None,\n",
        "    loss_function=focal_loss(gamma=2.0, alpha=0.25),\n",
        "    model_name='GRU_Focal'\n",
        ")"
      ],
      "metadata": {
        "colab": {
          "base_uri": "https://localhost:8080/"
        },
        "id": "UI9eTkOreJPc",
        "outputId": "7fdd40a3-b950-4ace-88c0-5882ccf417f7"
      },
      "execution_count": 64,
      "outputs": [
        {
          "output_type": "stream",
          "name": "stdout",
          "text": [
            "Epoch 1/20\n",
            "\u001b[1m549/549\u001b[0m \u001b[32m━━━━━━━━━━━━━━━━━━━━\u001b[0m\u001b[37m\u001b[0m \u001b[1m15s\u001b[0m 19ms/step - AUC: 0.5052 - Precision: 0.0405 - Recall: 0.0328 - loss: 0.0413 - val_AUC: 0.5625 - val_Precision: 0.0000e+00 - val_Recall: 0.0000e+00 - val_loss: 0.0175\n",
            "Epoch 2/20\n",
            "\u001b[1m549/549\u001b[0m \u001b[32m━━━━━━━━━━━━━━━━━━━━\u001b[0m\u001b[37m\u001b[0m \u001b[1m10s\u001b[0m 18ms/step - AUC: 0.5040 - Precision: 0.0000e+00 - Recall: 0.0000e+00 - loss: 0.0221 - val_AUC: 0.5790 - val_Precision: 0.0000e+00 - val_Recall: 0.0000e+00 - val_loss: 0.0162\n",
            "Epoch 3/20\n",
            "\u001b[1m549/549\u001b[0m \u001b[32m━━━━━━━━━━━━━━━━━━━━\u001b[0m\u001b[37m\u001b[0m \u001b[1m11s\u001b[0m 18ms/step - AUC: 0.5392 - Precision: 0.0000e+00 - Recall: 0.0000e+00 - loss: 0.0197 - val_AUC: 0.5749 - val_Precision: 0.0000e+00 - val_Recall: 0.0000e+00 - val_loss: 0.0170\n",
            "Epoch 4/20\n",
            "\u001b[1m549/549\u001b[0m \u001b[32m━━━━━━━━━━━━━━━━━━━━\u001b[0m\u001b[37m\u001b[0m \u001b[1m9s\u001b[0m 15ms/step - AUC: 0.5396 - Precision: 0.0000e+00 - Recall: 0.0000e+00 - loss: 0.0193 - val_AUC: 0.5751 - val_Precision: 0.0000e+00 - val_Recall: 0.0000e+00 - val_loss: 0.0172\n",
            "Epoch 5/20\n",
            "\u001b[1m549/549\u001b[0m \u001b[32m━━━━━━━━━━━━━━━━━━━━\u001b[0m\u001b[37m\u001b[0m \u001b[1m10s\u001b[0m 17ms/step - AUC: 0.5477 - Precision: 0.0000e+00 - Recall: 0.0000e+00 - loss: 0.0193 - val_AUC: 0.5806 - val_Precision: 0.0000e+00 - val_Recall: 0.0000e+00 - val_loss: 0.0164\n",
            "\u001b[1m182/182\u001b[0m \u001b[32m━━━━━━━━━━━━━━━━━━━━\u001b[0m\u001b[37m\u001b[0m \u001b[1m2s\u001b[0m 6ms/step\n",
            "\n",
            "Model: GRU_Focal\n",
            "Best Threshold: 0.18\n",
            "PR AUC: 0.047, Best F1: 0.093\n",
            "Classification Report:\n",
            "              precision    recall  f1-score   support\n",
            "\n",
            "           0      0.974     0.418     0.585      5575\n",
            "           1      0.050     0.733     0.093       232\n",
            "\n",
            "    accuracy                          0.431      5807\n",
            "   macro avg      0.512     0.575     0.339      5807\n",
            "weighted avg      0.937     0.431     0.565      5807\n",
            "\n",
            "Confusion Matrix:\n",
            "[[2330 3245]\n",
            " [  62  170]]\n"
          ]
        }
      ]
    },
    {
      "cell_type": "markdown",
      "source": [
        "Hybrid Model\n"
      ],
      "metadata": {
        "id": "JPPvSNxLhbT2"
      }
    },
    {
      "cell_type": "code",
      "source": [
        "# --- Run Full Pipeline for Hybrid Model with BCE + Class Weights ---\n",
        "\n",
        "# Step 1: Normalize Data\n",
        "#df_norm = normalize_data(filtered_df, base_feature_cols, strategy='athlete')\n",
        "df_norm = filtered_df\n",
        "# Step 2: Create Time Windows\n",
        "X, y, athlete_ids = create_windows_with_athlete_tracking(filtered_df, base_feature_cols, window_size=30, risk_horizon=5)\n",
        "\n",
        "# Step 3: Extract Engineered Features\n",
        "X_feat = np.array([extract_features_from_window(w) for w in X])\n",
        "\n",
        "# Step 4: Split Data\n",
        "X_train_ts, X_test_ts, X_train_feat, X_test_feat, y_train, y_test = split_data_by_athlete(X, X_feat, y, athlete_ids)\n",
        "\n",
        "# Step 5: Train and Evaluate Hybrid Model\n",
        "results_hybrid_bce = run_experiment(\n",
        "    model_builder=build_hybrid_model,\n",
        "    X_train_ts=X_train_ts,\n",
        "    X_test_ts=X_test_ts,\n",
        "    X_train_feat=X_train_feat,\n",
        "    X_test_feat=X_test_feat,\n",
        "    y_train=y_train,\n",
        "    y_test=y_test,\n",
        "    class_weight=get_class_weights(y_train),\n",
        "    loss_function='binary_crossentropy',\n",
        "    model_name='hybrid'\n",
        ")\n"
      ],
      "metadata": {
        "colab": {
          "base_uri": "https://localhost:8080/"
        },
        "id": "gkGz_5UdhanL",
        "outputId": "dc944063-6c51-4f69-86b3-7b83ea06983d"
      },
      "execution_count": 25,
      "outputs": [
        {
          "output_type": "stream",
          "name": "stdout",
          "text": [
            "Epoch 1/20\n",
            "\u001b[1m540/540\u001b[0m \u001b[32m━━━━━━━━━━━━━━━━━━━━\u001b[0m\u001b[37m\u001b[0m \u001b[1m21s\u001b[0m 26ms/step - AUC: 0.5074 - Precision: 0.0472 - Recall: 0.4219 - loss: 0.7355 - val_AUC: 0.6064 - val_Precision: 0.0430 - val_Recall: 0.8553 - val_loss: 0.7236\n",
            "Epoch 2/20\n",
            "\u001b[1m540/540\u001b[0m \u001b[32m━━━━━━━━━━━━━━━━━━━━\u001b[0m\u001b[37m\u001b[0m \u001b[1m20s\u001b[0m 24ms/step - AUC: 0.5663 - Precision: 0.0587 - Recall: 0.5957 - loss: 0.6942 - val_AUC: 0.6152 - val_Precision: 0.0619 - val_Recall: 0.4649 - val_loss: 0.6242\n",
            "Epoch 3/20\n",
            "\u001b[1m540/540\u001b[0m \u001b[32m━━━━━━━━━━━━━━━━━━━━\u001b[0m\u001b[37m\u001b[0m \u001b[1m21s\u001b[0m 25ms/step - AUC: 0.6261 - Precision: 0.0658 - Recall: 0.6210 - loss: 0.6705 - val_AUC: 0.5679 - val_Precision: 0.0855 - val_Recall: 0.2763 - val_loss: 0.5035\n",
            "Epoch 4/20\n",
            "\u001b[1m540/540\u001b[0m \u001b[32m━━━━━━━━━━━━━━━━━━━━\u001b[0m\u001b[37m\u001b[0m \u001b[1m20s\u001b[0m 24ms/step - AUC: 0.6217 - Precision: 0.0690 - Recall: 0.5826 - loss: 0.6746 - val_AUC: 0.5427 - val_Precision: 0.0536 - val_Recall: 0.3684 - val_loss: 0.6261\n",
            "Epoch 5/20\n",
            "\u001b[1m540/540\u001b[0m \u001b[32m━━━━━━━━━━━━━━━━━━━━\u001b[0m\u001b[37m\u001b[0m \u001b[1m21s\u001b[0m 25ms/step - AUC: 0.6422 - Precision: 0.0686 - Recall: 0.6193 - loss: 0.6557 - val_AUC: 0.5224 - val_Precision: 0.0439 - val_Recall: 0.4123 - val_loss: 0.6482\n",
            "Epoch 6/20\n",
            "\u001b[1m540/540\u001b[0m \u001b[32m━━━━━━━━━━━━━━━━━━━━\u001b[0m\u001b[37m\u001b[0m \u001b[1m21s\u001b[0m 26ms/step - AUC: 0.6534 - Precision: 0.0759 - Recall: 0.6476 - loss: 0.6612 - val_AUC: 0.5471 - val_Precision: 0.0475 - val_Recall: 0.3860 - val_loss: 0.5981\n",
            "\u001b[1m177/177\u001b[0m \u001b[32m━━━━━━━━━━━━━━━━━━━━\u001b[0m\u001b[37m\u001b[0m \u001b[1m2s\u001b[0m 7ms/step\n",
            "\n",
            "Model: hybrid\n",
            "Best Threshold: 0.52\n",
            "PR AUC: 0.058, Best F1: 0.135\n",
            "Classification Report:\n",
            "              precision    recall  f1-score   support\n",
            "\n",
            "           0      0.966     0.900     0.932      5429\n",
            "           1      0.093     0.246     0.135       228\n",
            "\n",
            "    accuracy                          0.873      5657\n",
            "   macro avg      0.530     0.573     0.533      5657\n",
            "weighted avg      0.931     0.873     0.900      5657\n",
            "\n",
            "Confusion Matrix:\n",
            "[[4884  545]\n",
            " [ 172   56]]\n"
          ]
        }
      ]
    },
    {
      "cell_type": "code",
      "source": [
        "def run_bagged_hybrid_model(df, feature_cols, window_func, build_model_func, extract_features_from_window, n_models=5, window_size=20, risk_horizon=5):\n",
        "    from sklearn.model_selection import train_test_split\n",
        "    from sklearn.utils import resample\n",
        "\n",
        "    unique_athletes = df['Athlete ID'].unique()\n",
        "    fixed_test_athletes = np.random.choice(unique_athletes, size=int(0.2 * len(unique_athletes)), replace=False)\n",
        "    all_probs = []\n",
        "    y_test_final = None\n",
        "\n",
        "    for seed in range(n_models):\n",
        "        np.random.seed(seed)\n",
        "        sampled_athletes = np.random.choice(unique_athletes, size=len(unique_athletes), replace=True)\n",
        "        sampled_df = pd.concat([df[df['Athlete ID'] == aid] for aid in sampled_athletes])\n",
        "\n",
        "        X, y, athlete_ids = window_func(sampled_df, feature_cols, window_size, risk_horizon)\n",
        "        X_feat = np.array([extract_features_from_window(w) for w in X])\n",
        "\n",
        "        train_mask = np.isin(athlete_ids, sampled_athletes) & ~np.isin(athlete_ids, fixed_test_athletes)\n",
        "        test_mask = np.isin(athlete_ids, fixed_test_athletes)\n",
        "\n",
        "        X_train_ts, X_test_ts = X[train_mask], X[test_mask]\n",
        "        X_train_feat, X_test_feat = X_feat[train_mask], X_feat[test_mask]\n",
        "        y_train, y_test = y[train_mask], y[test_mask]\n",
        "\n",
        "        # Fix: Always use hybrid signature correctly\n",
        "        model = build_model_func(X_train_ts.shape[1:], X_train_feat.shape[1])\n",
        "\n",
        "        model.compile(loss='binary_crossentropy', optimizer='adam',\n",
        "                      metrics=['Precision', 'Recall', tf.keras.metrics.AUC()])\n",
        "        model.fit([X_train_ts, X_train_feat], y_train, epochs=20, batch_size=64, verbose=0)\n",
        "\n",
        "        y_probs = model.predict([X_test_ts, X_test_feat]).ravel()\n",
        "        all_probs.append(y_probs)\n",
        "        y_test_final = y_test\n",
        "\n",
        "    # Ensure all prediction arrays are same length before averaging\n",
        "    min_len = min(len(probs) for probs in all_probs)\n",
        "    all_probs_trimmed = [probs[:min_len] for probs in all_probs]\n",
        "    y_test_final = y_test_final[:min_len]\n",
        "\n",
        "    y_probs_avg = np.mean(np.array(all_probs_trimmed), axis=0)\n",
        "\n",
        "    best_f1, best_thresh = 0, 0\n",
        "    for t in np.linspace(0, 1, 100):\n",
        "        preds = (y_probs_avg > t).astype(int)\n",
        "        f1 = f1_score(y_test_final, preds)\n",
        "        if f1 > best_f1:\n",
        "            best_f1, best_thresh = f1, t\n",
        "\n",
        "    pr_auc = average_precision_score(y_test_final, y_probs_avg)\n",
        "    print(f\"Bagged Hybrid: PR AUC: {pr_auc:.3f}, Best F1: {best_f1:.3f} at threshold {best_thresh:.2f}\")\n",
        "\n",
        "    return y_probs_avg, y_test_final, best_thresh\n"
      ],
      "metadata": {
        "id": "nkZZ8JLu2_2O"
      },
      "execution_count": 111,
      "outputs": []
    },
    {
      "cell_type": "code",
      "source": [
        "y_probs, y_test, best_thresh = run_bagged_hybrid_model(\n",
        "    df=filtered_df,\n",
        "    feature_cols=base_feature_cols,\n",
        "    window_func=create_windows_with_athlete_tracking,\n",
        "    build_model_func=build_hybrid_model,\n",
        "    extract_features_from_window=extract_features_from_window,\n",
        "    n_models=5,\n",
        "    window_size=20,\n",
        "    risk_horizon=5\n",
        ")\n"
      ],
      "metadata": {
        "colab": {
          "base_uri": "https://localhost:8080/"
        },
        "id": "-9JX7cgu3LPO",
        "outputId": "e4357b33-6524-47e2-96e4-d96165a8f2cc"
      },
      "execution_count": 112,
      "outputs": [
        {
          "output_type": "stream",
          "name": "stdout",
          "text": [
            "\u001b[1m94/94\u001b[0m \u001b[32m━━━━━━━━━━━━━━━━━━━━\u001b[0m\u001b[37m\u001b[0m \u001b[1m1s\u001b[0m 9ms/step\n",
            "\u001b[1m216/216\u001b[0m \u001b[32m━━━━━━━━━━━━━━━━━━━━\u001b[0m\u001b[37m\u001b[0m \u001b[1m2s\u001b[0m 6ms/step\n",
            "\u001b[1m136/136\u001b[0m \u001b[32m━━━━━━━━━━━━━━━━━━━━\u001b[0m\u001b[37m\u001b[0m \u001b[1m1s\u001b[0m 7ms/step\n",
            "\u001b[1m205/205\u001b[0m \u001b[32m━━━━━━━━━━━━━━━━━━━━\u001b[0m\u001b[37m\u001b[0m \u001b[1m2s\u001b[0m 6ms/step\n",
            "\u001b[1m116/116\u001b[0m \u001b[32m━━━━━━━━━━━━━━━━━━━━\u001b[0m\u001b[37m\u001b[0m \u001b[1m1s\u001b[0m 8ms/step\n",
            "Bagged Hybrid: PR AUC: 0.043, Best F1: 0.080 at threshold 0.00\n"
          ]
        }
      ]
    },
    {
      "cell_type": "code",
      "source": [
        "# --- Results Comparison and Visualization ---\n",
        "\n",
        "import matplotlib.pyplot as plt\n",
        "import seaborn as sns\n",
        "\n",
        "# Set plotting style\n",
        "sns.set(style=\"whitegrid\")\n",
        "\n",
        "# Define a list of dictionaries with updated results\n",
        "results_summary = [\n",
        "    {\n",
        "        \"Model\": \"LSTM\",\n",
        "        \"PR AUC\": 0.055,\n",
        "        \"F1\": 0.096,\n",
        "        \"Precision\": 0.065,\n",
        "        \"Recall\": 0.184\n",
        "    },\n",
        "    {\n",
        "        \"Model\": \"LSTM_Focal\",\n",
        "        \"PR AUC\": 0.046,\n",
        "        \"F1\": 0.083,\n",
        "        \"Precision\": 0.044,\n",
        "        \"Recall\": 0.934\n",
        "    },\n",
        "    {\n",
        "        \"Model\": \"GRU\",\n",
        "        \"PR AUC\": 0.045,\n",
        "        \"F1\": 0.092,\n",
        "        \"Precision\": 0.058,\n",
        "        \"Recall\": 0.228\n",
        "    },\n",
        "    {\n",
        "        \"Model\": \"GRU_Focal\",\n",
        "        \"PR AUC\": 0.047,\n",
        "        \"F1\": 0.093,\n",
        "        \"Precision\": 0.050,\n",
        "        \"Recall\": 0.733\n",
        "    },\n",
        "    {\n",
        "        \"Model\": \"Hybrid\",\n",
        "        \"PR AUC\": 0.058,\n",
        "        \"F1\": 0.135,\n",
        "        \"Precision\": 0.093,\n",
        "        \"Recall\": 0.246\n",
        "    },\n",
        "    {\n",
        "        \"Model\": \"Bagged Hybrid\",\n",
        "        \"PR AUC\": 0.043,\n",
        "        \"F1\": 0.080,\n",
        "        \"Precision\": 0.055,\n",
        "        \"Recall\": 0.211\n",
        "    }\n",
        "]\n",
        "\n",
        "# Convert to DataFrame\n",
        "results_df = pd.DataFrame(results_summary)\n",
        "\n",
        "# Plot F1-scores\n",
        "plt.figure(figsize=(10, 6))\n",
        "sns.barplot(data=results_df, x=\"Model\", y=\"F1\", palette=\"Blues_d\")\n",
        "plt.title(\"F1-Score by Model\")\n",
        "plt.xticks(rotation=15)\n",
        "plt.tight_layout()\n",
        "plt.show()\n",
        "\n",
        "# Plot PR AUC\n",
        "plt.figure(figsize=(10, 6))\n",
        "sns.barplot(data=results_df, x=\"Model\", y=\"PR AUC\", palette=\"Greens_d\")\n",
        "plt.title(\"Precision-Recall AUC by Model\")\n",
        "plt.xticks(rotation=15)\n",
        "plt.tight_layout()\n",
        "plt.show()\n",
        "\n",
        "# Save table\n",
        "results_df.to_csv(\"model_comparison_results.csv\", index=False)\n",
        "print(\"Summary table saved as model_comparison_results.csv\")\n",
        "\n",
        "# Display table\n",
        "results_df\n"
      ],
      "metadata": {
        "colab": {
          "base_uri": "https://localhost:8080/",
          "height": 1000
        },
        "id": "hLgTvVzGP0tr",
        "outputId": "d194c19a-315e-4af6-fd77-1be829da33ba"
      },
      "execution_count": 6,
      "outputs": [
        {
          "output_type": "stream",
          "name": "stderr",
          "text": [
            "<ipython-input-6-7c699c707f4d>:60: FutureWarning: \n",
            "\n",
            "Passing `palette` without assigning `hue` is deprecated and will be removed in v0.14.0. Assign the `x` variable to `hue` and set `legend=False` for the same effect.\n",
            "\n",
            "  sns.barplot(data=results_df, x=\"Model\", y=\"F1\", palette=\"Blues_d\")\n"
          ]
        },
        {
          "output_type": "display_data",
          "data": {
            "text/plain": [
              "<Figure size 1000x600 with 1 Axes>"
            ],
            "image/png": "[encoded data removed]"
          },
          "metadata": {}
        },
        {
          "output_type": "stream",
          "name": "stderr",
          "text": [
            "<ipython-input-6-7c699c707f4d>:68: FutureWarning: \n",
            "\n",
            "Passing `palette` without assigning `hue` is deprecated and will be removed in v0.14.0. Assign the `x` variable to `hue` and set `legend=False` for the same effect.\n",
            "\n",
            "  sns.barplot(data=results_df, x=\"Model\", y=\"PR AUC\", palette=\"Greens_d\")\n"
          ]
        },
        {
          "output_type": "display_data",
          "data": {
            "text/plain": [
              "<Figure size 1000x600 with 1 Axes>"
            ],
            "image/png": "[encoded data removed]"
          },
          "metadata": {}
        },
        {
          "output_type": "stream",
          "name": "stdout",
          "text": [
            "Summary table saved as model_comparison_results.csv\n"
          ]
        },
        {
          "output_type": "execute_result",
          "data": {
            "text/plain": [
              "           Model  PR AUC     F1  Precision  Recall\n",
              "0           LSTM   0.055  0.096      0.065   0.184\n",
              "1     LSTM_Focal   0.046  0.083      0.044   0.934\n",
              "2            GRU   0.045  0.092      0.058   0.228\n",
              "3      GRU_Focal   0.047  0.093      0.050   0.733\n",
              "4         Hybrid   0.058  0.135      0.093   0.246\n",
              "5  Bagged Hybrid   0.043  0.080      0.055   0.211"
            ],
            "text/html": [
              "\n",
              "  <div id=\"df-a58a3346-eb83-4d38-86c4-05fd819909f3\" class=\"colab-df-container\">\n",
              "    <div>\n",
              "<style scoped>\n",
              "    .dataframe tbody tr th:only-of-type {\n",
              "        vertical-align: middle;\n",
              "    }\n",
              "\n",
              "    .dataframe tbody tr th {\n",
              "        vertical-align: top;\n",
              "    }\n",
              "\n",
              "    .dataframe thead th {\n",
              "        text-align: right;\n",
              "    }\n",
              "</style>\n",
              "<table border=\"1\" class=\"dataframe\">\n",
              "  <thead>\n",
              "    <tr style=\"text-align: right;\">\n",
              "      <th></th>\n",
              "      <th>Model</th>\n",
              "      <th>PR AUC</th>\n",
              "      <th>F1</th>\n",
              "      <th>Precision</th>\n",
              "      <th>Recall</th>\n",
              "    </tr>\n",
              "  </thead>\n",
              "  <tbody>\n",
              "    <tr>\n",
              "      <th>0</th>\n",
              "      <td>LSTM</td>\n",
              "      <td>0.055</td>\n",
              "      <td>0.096</td>\n",
              "      <td>0.065</td>\n",
              "      <td>0.184</td>\n",
              "    </tr>\n",
              "    <tr>\n",
              "      <th>1</th>\n",
              "      <td>LSTM_Focal</td>\n",
              "      <td>0.046</td>\n",
              "      <td>0.083</td>\n",
              "      <td>0.044</td>\n",
              "      <td>0.934</td>\n",
              "    </tr>\n",
              "    <tr>\n",
              "      <th>2</th>\n",
              "      <td>GRU</td>\n",
              "      <td>0.045</td>\n",
              "      <td>0.092</td>\n",
              "      <td>0.058</td>\n",
              "      <td>0.228</td>\n",
              "    </tr>\n",
              "    <tr>\n",
              "      <th>3</th>\n",
              "      <td>GRU_Focal</td>\n",
              "      <td>0.047</td>\n",
              "      <td>0.093</td>\n",
              "      <td>0.050</td>\n",
              "      <td>0.733</td>\n",
              "    </tr>\n",
              "    <tr>\n",
              "      <th>4</th>\n",
              "      <td>Hybrid</td>\n",
              "      <td>0.058</td>\n",
              "      <td>0.135</td>\n",
              "      <td>0.093</td>\n",
              "      <td>0.246</td>\n",
              "    </tr>\n",
              "    <tr>\n",
              "      <th>5</th>\n",
              "      <td>Bagged Hybrid</td>\n",
              "      <td>0.043</td>\n",
              "      <td>0.080</td>\n",
              "      <td>0.055</td>\n",
              "      <td>0.211</td>\n",
              "    </tr>\n",
              "  </tbody>\n",
              "</table>\n",
              "</div>\n",
              "    <div class=\"colab-df-buttons\">\n",
              "\n",
              "  <div class=\"colab-df-container\">\n",
              "    <button class=\"colab-df-convert\" onclick=\"convertToInteractive('df-a58a3346-eb83-4d38-86c4-05fd819909f3')\"\n",
              "            title=\"Convert this dataframe to an interactive table.\"\n",
              "            style=\"display:none;\">\n",
              "\n",
              "  <svg xmlns=\"http://www.w3.org/2000/svg\" height=\"24px\" viewBox=\"0 -960 960 960\">\n",
              "    <path d=\"M120-120v-720h720v720H120Zm60-500h600v-160H180v160Zm220 220h160v-160H400v160Zm0 220h160v-160H400v160ZM180-400h160v-160H180v160Zm440 0h160v-160H620v160ZM180-180h160v-160H180v160Zm440 0h160v-160H620v160Z\"/>\n",
              "  </svg>\n",
              "    </button>\n",
              "\n",
              "  <style>\n",
              "    .colab-df-container {\n",
              "      display:flex;\n",
              "      gap: 12px;\n",
              "    }\n",
              "\n",
              "    .colab-df-convert {\n",
              "      background-color: #E8F0FE;\n",
              "      border: none;\n",
              "      border-radius: 50%;\n",
              "      cursor: pointer;\n",
              "      display: none;\n",
              "      fill: #1967D2;\n",
              "      height: 32px;\n",
              "      padding: 0 0 0 0;\n",
              "      width: 32px;\n",
              "    }\n",
              "\n",
              "    .colab-df-convert:hover {\n",
              "      background-color: #E2EBFA;\n",
              "      box-shadow: 0px 1px 2px rgba(60, 64, 67, 0.3), 0px 1px 3px 1px rgba(60, 64, 67, 0.15);\n",
              "      fill: #174EA6;\n",
              "    }\n",
              "\n",
              "    .colab-df-buttons div {\n",
              "      margin-bottom: 4px;\n",
              "    }\n",
              "\n",
              "    [theme=dark] .colab-df-convert {\n",
              "      background-color: #3B4455;\n",
              "      fill: #D2E3FC;\n",
              "    }\n",
              "\n",
              "    [theme=dark] .colab-df-convert:hover {\n",
              "      background-color: #434B5C;\n",
              "      box-shadow: 0px 1px 3px 1px rgba(0, 0, 0, 0.15);\n",
              "      filter: drop-shadow(0px 1px 2px rgba(0, 0, 0, 0.3));\n",
              "      fill: #FFFFFF;\n",
              "    }\n",
              "  </style>\n",
              "\n",
              "    <script>\n",
              "      const buttonEl =\n",
              "        document.querySelector('#df-a58a3346-eb83-4d38-86c4-05fd819909f3 button.colab-df-convert');\n",
              "      buttonEl.style.display =\n",
              "        google.colab.kernel.accessAllowed ? 'block' : 'none';\n",
              "\n",
              "      async function convertToInteractive(key) {\n",
              "        const element = document.querySelector('#df-a58a3346-eb83-4d38-86c4-05fd819909f3');\n",
              "        const dataTable =\n",
              "          await google.colab.kernel.invokeFunction('convertToInteractive',\n",
              "                                                    [key], {});\n",
              "        if (!dataTable) return;\n",
              "\n",
              "        const docLinkHtml = 'Like what you see? Visit the ' +\n",
              "          '<a target=\"_blank\" href=https://colab.research.google.com/notebooks/data_table.ipynb>data table notebook</a>'\n",
              "          + ' to learn more about interactive tables.';\n",
              "        element.innerHTML = '';\n",
              "        dataTable['output_type'] = 'display_data';\n",
              "        await google.colab.output.renderOutput(dataTable, element);\n",
              "        const docLink = document.createElement('div');\n",
              "        docLink.innerHTML = docLinkHtml;\n",
              "        element.appendChild(docLink);\n",
              "      }\n",
              "    </script>\n",
              "  </div>\n",
              "\n",
              "\n",
              "    <div id=\"df-65191763-1e24-4371-84ea-4d294b78de6e\">\n",
              "      <button class=\"colab-df-quickchart\" onclick=\"quickchart('df-65191763-1e24-4371-84ea-4d294b78de6e')\"\n",
              "                title=\"Suggest charts\"\n",
              "                style=\"display:none;\">\n",
              "\n",
              "<svg xmlns=\"http://www.w3.org/2000/svg\" height=\"24px\"viewBox=\"0 0 24 24\"\n",
              "     width=\"24px\">\n",
              "    <g>\n",
              "        <path d=\"M19 3H5c-1.1 0-2 .9-2 2v14c0 1.1.9 2 2 2h14c1.1 0 2-.9 2-2V5c0-1.1-.9-2-2-2zM9 17H7v-7h2v7zm4 0h-2V7h2v10zm4 0h-2v-4h2v4z\"/>\n",
              "    </g>\n",
              "</svg>\n",
              "      </button>\n",
              "\n",
              "<style>\n",
              "  .colab-df-quickchart {\n",
              "      --bg-color: #E8F0FE;\n",
              "      --fill-color: #1967D2;\n",
              "      --hover-bg-color: #E2EBFA;\n",
              "      --hover-fill-color: #174EA6;\n",
              "      --disabled-fill-color: #AAA;\n",
              "      --disabled-bg-color: #DDD;\n",
              "  }\n",
              "\n",
              "  [theme=dark] .colab-df-quickchart {\n",
              "      --bg-color: #3B4455;\n",
              "      --fill-color: #D2E3FC;\n",
              "      --hover-bg-color: #434B5C;\n",
              "      --hover-fill-color: #FFFFFF;\n",
              "      --disabled-bg-color: #3B4455;\n",
              "      --disabled-fill-color: #666;\n",
              "  }\n",
              "\n",
              "  .colab-df-quickchart {\n",
              "    background-color: var(--bg-color);\n",
              "    border: none;\n",
              "    border-radius: 50%;\n",
              "    cursor: pointer;\n",
              "    display: none;\n",
              "    fill: var(--fill-color);\n",
              "    height: 32px;\n",
              "    padding: 0;\n",
              "    width: 32px;\n",
              "  }\n",
              "\n",
              "  .colab-df-quickchart:hover {\n",
              "    background-color: var(--hover-bg-color);\n",
              "    box-shadow: 0 1px 2px rgba(60, 64, 67, 0.3), 0 1px 3px 1px rgba(60, 64, 67, 0.15);\n",
              "    fill: var(--button-hover-fill-color);\n",
              "  }\n",
              "\n",
              "  .colab-df-quickchart-complete:disabled,\n",
              "  .colab-df-quickchart-complete:disabled:hover {\n",
              "    background-color: var(--disabled-bg-color);\n",
              "    fill: var(--disabled-fill-color);\n",
              "    box-shadow: none;\n",
              "  }\n",
              "\n",
              "  .colab-df-spinner {\n",
              "    border: 2px solid var(--fill-color);\n",
              "    border-color: transparent;\n",
              "    border-bottom-color: var(--fill-color);\n",
              "    animation:\n",
              "      spin 1s steps(1) infinite;\n",
              "  }\n",
              "\n",
              "  @keyframes spin {\n",
              "    0% {\n",
              "      border-color: transparent;\n",
              "      border-bottom-color: var(--fill-color);\n",
              "      border-left-color: var(--fill-color);\n",
              "    }\n",
              "    20% {\n",
              "      border-color: transparent;\n",
              "      border-left-color: var(--fill-color);\n",
              "      border-top-color: var(--fill-color);\n",
              "    }\n",
              "    30% {\n",
              "      border-color: transparent;\n",
              "      border-left-color: var(--fill-color);\n",
              "      border-top-color: var(--fill-color);\n",
              "      border-right-color: var(--fill-color);\n",
              "    }\n",
              "    40% {\n",
              "      border-color: transparent;\n",
              "      border-right-color: var(--fill-color);\n",
              "      border-top-color: var(--fill-color);\n",
              "    }\n",
              "    60% {\n",
              "      border-color: transparent;\n",
              "      border-right-color: var(--fill-color);\n",
              "    }\n",
              "    80% {\n",
              "      border-color: transparent;\n",
              "      border-right-color: var(--fill-color);\n",
              "      border-bottom-color: var(--fill-color);\n",
              "    }\n",
              "    90% {\n",
              "      border-color: transparent;\n",
              "      border-bottom-color: var(--fill-color);\n",
              "    }\n",
              "  }\n",
              "</style>\n",
              "\n",
              "      <script>\n",
              "        async function quickchart(key) {\n",
              "          const quickchartButtonEl =\n",
              "            document.querySelector('#' + key + ' button');\n",
              "          quickchartButtonEl.disabled = true;  // To prevent multiple clicks.\n",
              "          quickchartButtonEl.classList.add('colab-df-spinner');\n",
              "          try {\n",
              "            const charts = await google.colab.kernel.invokeFunction(\n",
              "                'suggestCharts', [key], {});\n",
              "          } catch (error) {\n",
              "            console.error('Error during call to suggestCharts:', error);\n",
              "          }\n",
              "          quickchartButtonEl.classList.remove('colab-df-spinner');\n",
              "          quickchartButtonEl.classList.add('colab-df-quickchart-complete');\n",
              "        }\n",
              "        (() => {\n",
              "          let quickchartButtonEl =\n",
              "            document.querySelector('#df-65191763-1e24-4371-84ea-4d294b78de6e button');\n",
              "          quickchartButtonEl.style.display =\n",
              "            google.colab.kernel.accessAllowed ? 'block' : 'none';\n",
              "        })();\n",
              "      </script>\n",
              "    </div>\n",
              "\n",
              "  <div id=\"id_a2d6aa05-0139-40af-bcd4-12c8d65fe678\">\n",
              "    <style>\n",
              "      .colab-df-generate {\n",
              "        background-color: #E8F0FE;\n",
              "        border: none;\n",
              "        border-radius: 50%;\n",
              "        cursor: pointer;\n",
              "        display: none;\n",
              "        fill: #1967D2;\n",
              "        height: 32px;\n",
              "        padding: 0 0 0 0;\n",
              "        width: 32px;\n",
              "      }\n",
              "\n",
              "      .colab-df-generate:hover {\n",
              "        background-color: #E2EBFA;\n",
              "        box-shadow: 0px 1px 2px rgba(60, 64, 67, 0.3), 0px 1px 3px 1px rgba(60, 64, 67, 0.15);\n",
              "        fill: #174EA6;\n",
              "      }\n",
              "\n",
              "      [theme=dark] .colab-df-generate {\n",
              "        background-color: #3B4455;\n",
              "        fill: #D2E3FC;\n",
              "      }\n",
              "\n",
              "      [theme=dark] .colab-df-generate:hover {\n",
              "        background-color: #434B5C;\n",
              "        box-shadow: 0px 1px 3px 1px rgba(0, 0, 0, 0.15);\n",
              "        filter: drop-shadow(0px 1px 2px rgba(0, 0, 0, 0.3));\n",
              "        fill: #FFFFFF;\n",
              "      }\n",
              "    </style>\n",
              "    <button class=\"colab-df-generate\" onclick=\"generateWithVariable('results_df')\"\n",
              "            title=\"Generate code using this dataframe.\"\n",
              "            style=\"display:none;\">\n",
              "\n",
              "  <svg xmlns=\"http://www.w3.org/2000/svg\" height=\"24px\"viewBox=\"0 0 24 24\"\n",
              "       width=\"24px\">\n",
              "    <path d=\"M7,19H8.4L18.45,9,17,7.55,7,17.6ZM5,21V16.75L18.45,3.32a2,2,0,0,1,2.83,0l1.4,1.43a1.91,1.91,0,0,1,.58,1.4,1.91,1.91,0,0,1-.58,1.4L9.25,21ZM18.45,9,17,7.55Zm-12,3A5.31,5.31,0,0,0,4.9,8.1,5.31,5.31,0,0,0,1,6.5,5.31,5.31,0,0,0,4.9,4.9,5.31,5.31,0,0,0,6.5,1,5.31,5.31,0,0,0,8.1,4.9,5.31,5.31,0,0,0,12,6.5,5.46,5.46,0,0,0,6.5,12Z\"/>\n",
              "  </svg>\n",
              "    </button>\n",
              "    <script>\n",
              "      (() => {\n",
              "      const buttonEl =\n",
              "        document.querySelector('#id_a2d6aa05-0139-40af-bcd4-12c8d65fe678 button.colab-df-generate');\n",
              "      buttonEl.style.display =\n",
              "        google.colab.kernel.accessAllowed ? 'block' : 'none';\n",
              "\n",
              "      buttonEl.onclick = () => {\n",
              "        google.colab.notebook.generateWithVariable('results_df');\n",
              "      }\n",
              "      })();\n",
              "    </script>\n",
              "  </div>\n",
              "\n",
              "    </div>\n",
              "  </div>\n"
            ],
            "application/vnd.google.colaboratory.intrinsic+json": {
              "type": "dataframe",
              "variable_name": "results_df",
              "summary": "{\n  \"name\": \"results_df\",\n  \"rows\": 6,\n  \"fields\": [\n    {\n      \"column\": \"Model\",\n      \"properties\": {\n        \"dtype\": \"string\",\n        \"num_unique_values\": 6,\n        \"samples\": [\n          \"LSTM\",\n          \"LSTM_Focal\",\n          \"Bagged Hybrid\"\n        ],\n        \"semantic_type\": \"\",\n        \"description\": \"\"\n      }\n    },\n    {\n      \"column\": \"PR AUC\",\n      \"properties\": {\n        \"dtype\": \"number\",\n        \"std\": 0.006033241251599345,\n        \"min\": 0.043,\n        \"max\": 0.058,\n        \"num_unique_values\": 6,\n        \"samples\": [\n          0.055,\n          0.046,\n          0.043\n        ],\n        \"semantic_type\": \"\",\n        \"description\": \"\"\n      }\n    },\n    {\n      \"column\": \"F1\",\n      \"properties\": {\n        \"dtype\": \"number\",\n        \"std\": 0.01984691411781691,\n        \"min\": 0.08,\n        \"max\": 0.135,\n        \"num_unique_values\": 6,\n        \"samples\": [\n          0.096,\n          0.083,\n          0.08\n        ],\n        \"semantic_type\": \"\",\n        \"description\": \"\"\n      }\n    },\n    {\n      \"column\": \"Precision\",\n      \"properties\": {\n        \"dtype\": \"number\",\n        \"std\": 0.017290652580705758,\n        \"min\": 0.044,\n        \"max\": 0.093,\n        \"num_unique_values\": 6,\n        \"samples\": [\n          0.065,\n          0.044,\n          0.055\n        ],\n        \"semantic_type\": \"\",\n        \"description\": \"\"\n      }\n    },\n    {\n      \"column\": \"Recall\",\n      \"properties\": {\n        \"dtype\": \"number\",\n        \"std\": 0.3251582178980975,\n        \"min\": 0.184,\n        \"max\": 0.934,\n        \"num_unique_values\": 6,\n        \"samples\": [\n          0.184,\n          0.934,\n          0.211\n        ],\n        \"semantic_type\": \"\",\n        \"description\": \"\"\n      }\n    }\n  ]\n}"
            }
          },
          "metadata": {},
          "execution_count": 6
        }
      ]
    },
    {
      "cell_type": "code",
      "source": [
        "import matplotlib.pyplot as plt\n",
        "from sklearn.metrics import ConfusionMatrixDisplay\n",
        "import numpy as np\n",
        "\n",
        "# Confusion matrices\n",
        "conf_matrix_bce = np.array([[4820, 609], [186, 42]])       # LSTM\n",
        "conf_matrix_focal = np.array([[747, 4682], [15, 213]])    # LSTM + Focal\n",
        "\n",
        "fig, axes = plt.subplots(1, 2, figsize=(14, 6))\n",
        "\n",
        "# LSTM (Binary Cross-Entropy)\n",
        "disp_bce = ConfusionMatrixDisplay(confusion_matrix=conf_matrix_bce, display_labels=[\"No Injury\", \"Injury\"])\n",
        "disp_bce.plot(ax=axes[0], cmap='Blues', colorbar=False)\n",
        "axes[0].set_title(\"LSTM (Binary Cross-Entropy)\")\n",
        "\n",
        "# LSTM (Focal Loss)\n",
        "disp_focal = ConfusionMatrixDisplay(confusion_matrix=conf_matrix_focal, display_labels=[\"No Injury\", \"Injury\"])\n",
        "disp_focal.plot(ax=axes[1], cmap='Oranges', colorbar=False)\n",
        "axes[1].set_title(\"LSTM (Focal Loss)\")\n",
        "\n",
        "plt.tight_layout()\n",
        "plt.show()"
      ],
      "metadata": {
        "colab": {
          "base_uri": "https://localhost:8080/",
          "height": 491
        },
        "id": "qL-e2Vujrp2v",
        "outputId": "e6ba6a21-8931-4e52-a579-60a4f643d7ff"
      },
      "execution_count": 1,
      "outputs": [
        {
          "output_type": "display_data",
          "data": {
            "text/plain": [
              "<Figure size 1400x600 with 2 Axes>"
            ],
            "image/png": "[encoded data removed]"
          },
          "metadata": {}
        }
      ]
    },
    {
      "cell_type": "code",
      "source": [
        "# Confusion matrix for GRU model\n",
        "conf_matrix_gru = np.array([[4713, 862], [179, 53]])\n",
        "fig, ax = plt.subplots(figsize=(6, 6))\n",
        "ConfusionMatrixDisplay(confusion_matrix=conf_matrix_gru, display_labels=[\"No Injury\", \"Injury\"]).plot(ax=ax, cmap='Purples', colorbar=False)\n",
        "ax.set_title(\"GRU Model - Confusion Matrix\")\n",
        "plt.tight_layout()\n",
        "plt.show()"
      ],
      "metadata": {
        "colab": {
          "base_uri": "https://localhost:8080/",
          "height": 582
        },
        "id": "EJ5ZcF3ntThQ",
        "outputId": "a936d809-0c79-45f9-e7e1-5ac43d13bfed"
      },
      "execution_count": 2,
      "outputs": [
        {
          "output_type": "display_data",
          "data": {
            "text/plain": [
              "<Figure size 600x600 with 1 Axes>"
            ],
            "image/png": "[encoded data removed]"
          },
          "metadata": {}
        }
      ]
    },
    {
      "cell_type": "code",
      "source": [
        "# Confusion matrix for Hybrid model\n",
        "conf_matrix_hybrid = np.array([[4884, 545], [172, 56]])\n",
        "fig, ax = plt.subplots(figsize=(6, 6))\n",
        "ConfusionMatrixDisplay(confusion_matrix=conf_matrix_hybrid, display_labels=[\"No Injury\", \"Injury\"]).plot(ax=ax, cmap='Greens', colorbar=False)\n",
        "ax.set_title(\"Hybrid Model - Confusion Matrix\")\n",
        "plt.tight_layout()\n",
        "plt.show()"
      ],
      "metadata": {
        "colab": {
          "base_uri": "https://localhost:8080/",
          "height": 582
        },
        "id": "UFQb10BPuMAL",
        "outputId": "64902c1a-4a85-42ed-ba81-18f1d86d2b6d"
      },
      "execution_count": 3,
      "outputs": [
        {
          "output_type": "display_data",
          "data": {
            "text/plain": [
              "<Figure size 600x600 with 1 Axes>"
            ],
            "image/png": "[encoded data removed]"
          },
          "metadata": {}
        }
      ]
    }
  ]
}